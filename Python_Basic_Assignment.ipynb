{
  "nbformat": 4,
  "nbformat_minor": 0,
  "metadata": {
    "colab": {
      "provenance": []
    },
    "kernelspec": {
      "name": "python3",
      "display_name": "Python 3"
    },
    "language_info": {
      "name": "python"
    }
  },
  "cells": [
    {
      "cell_type": "markdown",
      "source": [
        "# ***Python Basic Questions***"
      ],
      "metadata": {
        "id": "jevh47E1UQ1C"
      }
    },
    {
      "cell_type": "markdown",
      "source": [
        "**1. What is Python, and why is it popular?**\n",
        "\n",
        "Python is a high-level, interpreted programming language known for its readability and simplicity. It's popular for many reasons:\n",
        "\n",
        "Easy to learn: Its clear syntax makes it beginner-friendly.\n",
        "\n",
        "Versatile: It can be used for web development, data analysis, machine learning, automation, and more.\n",
        "\n",
        "Large community and libraries: It has a vast collection of libraries and a strong community for support.\n",
        "\n",
        "Platform independent: Python code can run on different operating systems."
      ],
      "metadata": {
        "id": "0guBJyA_Ui5i"
      }
    },
    {
      "cell_type": "markdown",
      "source": [
        "**2. What is an interpreter in Python?**\n",
        "\n",
        "In Python, an interpreter is a program that reads and executes your code line by line. Unlike compiled languages (like C++ or Java) where the entire code is translated into machine code before execution, Python's interpreter translates and runs each line as it encounters it. This makes Python development faster and more interactive."
      ],
      "metadata": {
        "id": "02PLgi8WUp8V"
      }
    },
    {
      "cell_type": "markdown",
      "source": [
        "**3. What are pre-defined keywords in Python?**\n",
        "\n",
        "Pre-defined keywords in Python are reserved words that have special meanings to the interpreter and are used to define the syntax and structure of the language. You cannot use these keywords as variable names, function names, or any other identifiers.\n",
        "\n",
        "Some examples of pre-defined keywords include:\n",
        "\n",
        "if, else, elif (for conditional statements)\n",
        "\n",
        "for, while (for loops)\n",
        "\n",
        "def (for defining functions)\n",
        "\n",
        "class (for defining classes)\n",
        "\n",
        "import (for importing modules)\n",
        "\n",
        "True, False, None (for boolean values and null)\n",
        "\n",
        "and, or, not (for logical operators)"
      ],
      "metadata": {
        "id": "6bo1PnnbU2Tk"
      }
    },
    {
      "cell_type": "markdown",
      "source": [
        "**4. Can keywords be used as variable names?**\n",
        "\n",
        "No, keywords cannot be used as variable names in Python. Keywords are reserved words that have specific meanings to the Python interpreter and are part of the language's syntax. Using a keyword as a variable name would cause a SyntaxError."
      ],
      "metadata": {
        "id": "TlEk2fIjVSXy"
      }
    },
    {
      "cell_type": "markdown",
      "source": [
        "**5. What is mutability in Python?**\n",
        "\n",
        "Mutability in Python refers to whether the state of an object can be changed after it is created.\n",
        "\n",
        "Mutable objects can be modified after creation. Examples include lists, dictionaries, and sets. When you change a mutable object, the object itself is altered.\n",
        "\n",
        "Immutable objects cannot be changed after creation. Examples include strings, tuples, and numbers. When you perform an operation that seems to modify an immutable object, a new object is actually created with the changes.\n",
        "\n",
        "Understanding mutability is important for how objects are handled in memory and how they behave when passed to functions or assigned to new variables."
      ],
      "metadata": {
        "id": "IlfmZejtVhYS"
      }
    },
    {
      "cell_type": "markdown",
      "source": [
        "**6.  Why are lists mutable, but tuples are immutable?**\n",
        "\n",
        "The core reason why lists are mutable and tuples are immutable in Python comes down to their design and intended use cases:\n",
        "\n",
        "Lists are designed for dynamic collections: They are meant to be modified after creation. You can add, remove, or change elements within a list. This makes them suitable for situations where your data structure needs to grow or shrink, or where the elements themselves might change.\n",
        "\n",
        "Tuples are designed for fixed collections: They are meant to represent sequences of elements that should not change after creation. Once a tuple is created, you cannot add, remove, or modify its elements. This immutability makes tuples useful for representing fixed sets of related data, like coordinates (x, y) or database records.\n",
        "\n",
        "This fundamental difference in design influences how they are implemented internally and how operations on them are handled. Lists have methods for modification (like append(), remove(), sort()), while tuples do not.\n",
        "\n",
        "The choice between using a list or a tuple depends on whether you need a collection that can be changed (list) or one that should remain constant (tuple)."
      ],
      "metadata": {
        "id": "cIPQNSPeVvIv"
      }
    },
    {
      "cell_type": "markdown",
      "source": [
        "**7. What is the difference between “==” and “is” operators in Python?**\n",
        "\n",
        "The == and is operators in Python are used for comparison, but they compare different things:\n",
        "\n",
        "== (Equality operator): This operator compares the values of two objects. It checks if the objects have the same content.\n",
        "\n",
        "is (Identity operator): This operator compares the identity of two objects. It checks if two variables refer to the exact same object in memory.\n",
        "\n",
        "In many cases, especially with immutable objects like numbers and strings, == and is might produce the same result if the Python interpreter optimizes and uses the same object in memory for identical values. However, for mutable objects like lists, even if two lists have the same elements, they will be different objects in memory, so is will return False while == will return True.\n"
      ],
      "metadata": {
        "id": "wm8i7otLWAL6"
      }
    },
    {
      "cell_type": "markdown",
      "source": [
        "**8. What are logical operators in Python?**\n",
        "\n",
        "Logical operators in Python are used to combine conditional statements or to evaluate the truthfulness of expressions. They return either True or False. The main logical operators are:\n",
        "\n",
        "and: Returns True if both operands are True. Otherwise, it returns False.\n",
        "\n",
        "Example: x > 5 and y < 10\n",
        "\n",
        "or: Returns True if at least one of the operands is True. Otherwise, it returns False.\n",
        "\n",
        "Example: x > 5 or y < 10\n",
        "\n",
        "not: This is a unary operator that negates the truth value of its operand. If the operand is True, it returns False, and if the operand is False, it returns True.\n",
        "\n",
        "Example: not (x > 5)\n",
        "\n",
        "These operators are commonly used in if statements and loops to control the flow of your program based on multiple conditions.\n"
      ],
      "metadata": {
        "id": "JB3LyGQeWWOX"
      }
    },
    {
      "cell_type": "markdown",
      "source": [
        "**9. What is type casting in Python?**\n",
        "\n",
        "Type casting (or type conversion) in Python refers to the process of changing the data type of an object from one type to another. This is often necessary when you need to perform operations that are specific to a certain data type or when you need to ensure that data is in the correct format for a particular function or method.\n",
        "\n",
        "Python provides built-in functions to perform type casting, such as:\n",
        "\n",
        "int(): Converts to an integer.\n",
        "\n",
        "float(): Converts to a floating-point number.\n",
        "\n",
        "str(): Converts to a string.\n",
        "\n",
        "list(): Converts to a list.\n",
        "\n",
        "tuple(): Converts to a tuple.\n",
        "\n",
        "dict(): Converts to a dictionary.\n",
        "\n",
        "set(): Converts to a set.\n",
        "\n",
        "It's important to note that type casting is not always possible, and attempting to cast an incompatible type will result in an error.\n",
        "\n"
      ],
      "metadata": {
        "id": "5ctASZ6hXtCd"
      }
    },
    {
      "cell_type": "markdown",
      "source": [
        "**10. What is the difference between implicit and explicit type casting?**\n",
        "\n",
        "Implicit Type Casting (Coercion): This happens automatically without the programmer's intervention. Python promotes a lower data type to a higher data type to avoid data loss. For example, when you perform an operation between an integer and a float, Python implicitly converts the integer to a float.\n",
        "\n",
        "Explicit Type Casting: This is done manually by the programmer using built-in functions like int(), float(), str(), etc. This is necessary when Python cannot automatically convert types or when you want to force a specific type conversion."
      ],
      "metadata": {
        "id": "76n0e0puYNC8"
      }
    },
    {
      "cell_type": "markdown",
      "source": [
        "**11. What is the purpose of conditional statements in Python?**\n",
        "\n",
        "Conditional statements in Python are used to control the flow of your program based on whether certain conditions are true or false. They allow your program to make decisions and execute different blocks of code depending on the outcome of those decisions.\n",
        "\n",
        "The main types of conditional statements in Python are:\n",
        "\n",
        "if statement: Executes a block of code if a condition is true.\n",
        "\n",
        "elif statement: (short for \"else if\") Checks another condition if the previous if or elif conditions were false.\n",
        "\n",
        "else statement: Executes a block of code if all previous if and elif conditions were false.\n",
        "\n",
        "These statements are essential for creating programs that can respond to different inputs or situations."
      ],
      "metadata": {
        "id": "26_juDBBYe1i"
      }
    },
    {
      "cell_type": "markdown",
      "source": [
        "**12. How does the elif statement work?**\n",
        "\n",
        "The elif statement in Python stands for \"else if\". It's used in conjunction with an if statement to check multiple conditions sequentially.\n",
        "\n",
        "Here's how it works:\n",
        "\n",
        "1. The if statement's condition is checked first.\n",
        "\n",
        "2. If the if condition is False, the elif statement's condition is then checked.\n",
        "\n",
        "3. If the elif condition is True, the code block associated with that elif is executed, and the rest of the conditional block (including any subsequent elif or else statements) is skipped.\n",
        "\n",
        "4. If the elif condition is False, the program moves on to check the next elif (if there is one) or the else statement.\n",
        "\n",
        "You can have multiple elif statements after an if statement. The first elif condition that evaluates to True will have its code block executed.\n",
        "\n",
        "It's a way to handle multiple possible scenarios in a more organized and efficient way than using nested if statements."
      ],
      "metadata": {
        "id": "Jji8O6yRY6vG"
      }
    },
    {
      "cell_type": "markdown",
      "metadata": {
        "id": "8d63fe0e"
      },
      "source": [
        "**13. What is the difference between for and while loops?**\n",
        "\n",
        "Both `for` and `while` loops are used for iteration in Python, but they are typically used in different scenarios:\n",
        "\n",
        "**For loops:**\n",
        "\n",
        "*   Used when you know the number of iterations beforehand or when you want to iterate over a sequence (like a list, tuple, string, or range).\n",
        "*   They iterate through each item in a sequence.\n",
        "*   The loop automatically handles the iteration over the sequence.\n",
        "\n",
        "Example:"
      ]
    },
    {
      "cell_type": "code",
      "metadata": {
        "colab": {
          "base_uri": "https://localhost:8080/"
        },
        "id": "836ce5e7",
        "outputId": "2f437fc8-75cb-40f8-8840-9087be1e2c4f"
      },
      "source": [
        "count = 0\n",
        "while count < 3:\n",
        "  print(count)\n",
        "  count += 1"
      ],
      "execution_count": 1,
      "outputs": [
        {
          "output_type": "stream",
          "name": "stdout",
          "text": [
            "0\n",
            "1\n",
            "2\n"
          ]
        }
      ]
    },
    {
      "cell_type": "markdown",
      "source": [
        "**14.  Describe a scenario where a while loop is more suitable than a for loop.**\n",
        "\n",
        "A while loop is more suitable than a for loop when you don't know the number of iterations needed beforehand and the loop should continue until a certain condition is met.\n",
        "\n",
        "Here's a scenario:\n",
        "\n",
        "Reading from a file until a specific line is found:\n",
        "\n",
        "Imagine you are reading a log file and you want to process lines until you encounter a line that contains the word \"ERROR\". You don't know in advance how many lines you'll need to read before finding \"ERROR\". A while loop is perfect for this:"
      ],
      "metadata": {
        "id": "9P0pmaNsZxhP"
      }
    },
    {
      "cell_type": "code",
      "source": [
        "file = open(\"log_file.txt\", \"r\")\n",
        "line = file.readline()\n",
        "\n",
        "while \"ERROR\" not in line and line != \"\":\n",
        "  # Process the line (e.g., print it, analyze it)\n",
        "  print(line.strip())\n",
        "  line = file.readline()\n",
        "\n",
        "if \"ERROR\" in line:\n",
        "  print(\"Error found!\")\n",
        "else:\n",
        "  print(\"End of file reached without finding an error.\")\n",
        "\n",
        "file.close()"
      ],
      "metadata": {
        "colab": {
          "base_uri": "https://localhost:8080/",
          "height": 211
        },
        "id": "rpyZ-_YYaBCD",
        "outputId": "3d4fde82-7ed3-4509-a6f0-7be7930d294d"
      },
      "execution_count": 2,
      "outputs": [
        {
          "output_type": "error",
          "ename": "FileNotFoundError",
          "evalue": "[Errno 2] No such file or directory: 'log_file.txt'",
          "traceback": [
            "\u001b[0;31m---------------------------------------------------------------------------\u001b[0m",
            "\u001b[0;31mFileNotFoundError\u001b[0m                         Traceback (most recent call last)",
            "\u001b[0;32m/tmp/ipython-input-803223876.py\u001b[0m in \u001b[0;36m<cell line: 0>\u001b[0;34m()\u001b[0m\n\u001b[0;32m----> 1\u001b[0;31m \u001b[0mfile\u001b[0m \u001b[0;34m=\u001b[0m \u001b[0mopen\u001b[0m\u001b[0;34m(\u001b[0m\u001b[0;34m\"log_file.txt\"\u001b[0m\u001b[0;34m,\u001b[0m \u001b[0;34m\"r\"\u001b[0m\u001b[0;34m)\u001b[0m\u001b[0;34m\u001b[0m\u001b[0;34m\u001b[0m\u001b[0m\n\u001b[0m\u001b[1;32m      2\u001b[0m \u001b[0mline\u001b[0m \u001b[0;34m=\u001b[0m \u001b[0mfile\u001b[0m\u001b[0;34m.\u001b[0m\u001b[0mreadline\u001b[0m\u001b[0;34m(\u001b[0m\u001b[0;34m)\u001b[0m\u001b[0;34m\u001b[0m\u001b[0;34m\u001b[0m\u001b[0m\n\u001b[1;32m      3\u001b[0m \u001b[0;34m\u001b[0m\u001b[0m\n\u001b[1;32m      4\u001b[0m \u001b[0;32mwhile\u001b[0m \u001b[0;34m\"ERROR\"\u001b[0m \u001b[0;32mnot\u001b[0m \u001b[0;32min\u001b[0m \u001b[0mline\u001b[0m \u001b[0;32mand\u001b[0m \u001b[0mline\u001b[0m \u001b[0;34m!=\u001b[0m \u001b[0;34m\"\"\u001b[0m\u001b[0;34m:\u001b[0m\u001b[0;34m\u001b[0m\u001b[0;34m\u001b[0m\u001b[0m\n\u001b[1;32m      5\u001b[0m   \u001b[0;31m# Process the line (e.g., print it, analyze it)\u001b[0m\u001b[0;34m\u001b[0m\u001b[0;34m\u001b[0m\u001b[0m\n",
            "\u001b[0;31mFileNotFoundError\u001b[0m: [Errno 2] No such file or directory: 'log_file.txt'"
          ]
        }
      ]
    },
    {
      "cell_type": "markdown",
      "source": [
        "In this example, the loop continues as long as the current line doesn't contain \"ERROR\" and is not an empty string (indicating the end of the file). A for loop would be less intuitive here because you don't know how many lines you need to iterate over."
      ],
      "metadata": {
        "id": "Wmp8yNXvaFBi"
      }
    },
    {
      "cell_type": "markdown",
      "source": [
        "# ***Practical Questions***"
      ],
      "metadata": {
        "id": "7dXXmOBxaGYJ"
      }
    },
    {
      "cell_type": "markdown",
      "source": [
        "**1. Write a Python program to print \"Hello, World!\"**\n",
        "\n"
      ],
      "metadata": {
        "id": "UZ7SV3eXaL2I"
      }
    },
    {
      "cell_type": "code",
      "metadata": {
        "colab": {
          "base_uri": "https://localhost:8080/"
        },
        "id": "80c9c2cc",
        "outputId": "e1207667-66e1-4b1a-fe5a-f646755d9528"
      },
      "source": [
        "print(\"Hello, World!\")"
      ],
      "execution_count": 3,
      "outputs": [
        {
          "output_type": "stream",
          "name": "stdout",
          "text": [
            "Hello, World!\n"
          ]
        }
      ]
    },
    {
      "cell_type": "markdown",
      "source": [
        "**2. Write a Python program that displays your name and age.**"
      ],
      "metadata": {
        "id": "ItX3KoX7adnV"
      }
    },
    {
      "cell_type": "code",
      "metadata": {
        "colab": {
          "base_uri": "https://localhost:8080/"
        },
        "id": "017d4a1f",
        "outputId": "d55296bd-92da-4250-9a98-b2f34fb4446c"
      },
      "source": [
        "name = \"Your Name\"  # Replace with your name\n",
        "age = 30  # Replace with your age\n",
        "\n",
        "print(\"My name is\", name)\n",
        "print(\"I am\", age, \"years old\")"
      ],
      "execution_count": 4,
      "outputs": [
        {
          "output_type": "stream",
          "name": "stdout",
          "text": [
            "My name is Your Name\n",
            "I am 30 years old\n"
          ]
        }
      ]
    },
    {
      "cell_type": "markdown",
      "source": [
        "**3. Write code to print all the pre-defined keywords in Python using the keyword library.**"
      ],
      "metadata": {
        "id": "bVbQaLOKawsA"
      }
    },
    {
      "cell_type": "code",
      "metadata": {
        "colab": {
          "base_uri": "https://localhost:8080/"
        },
        "id": "556ae323",
        "outputId": "b51ef62f-fe36-4e24-d239-182d24736369"
      },
      "source": [
        "import keyword\n",
        "\n",
        "print(keyword.kwlist)"
      ],
      "execution_count": 5,
      "outputs": [
        {
          "output_type": "stream",
          "name": "stdout",
          "text": [
            "['False', 'None', 'True', 'and', 'as', 'assert', 'async', 'await', 'break', 'class', 'continue', 'def', 'del', 'elif', 'else', 'except', 'finally', 'for', 'from', 'global', 'if', 'import', 'in', 'is', 'lambda', 'nonlocal', 'not', 'or', 'pass', 'raise', 'return', 'try', 'while', 'with', 'yield']\n"
          ]
        }
      ]
    },
    {
      "cell_type": "markdown",
      "source": [
        "**4. Write a program that checks if a given word is a Python keyword.**"
      ],
      "metadata": {
        "id": "_Q4BJy2xa9g7"
      }
    },
    {
      "cell_type": "code",
      "metadata": {
        "colab": {
          "base_uri": "https://localhost:8080/"
        },
        "id": "b096ea86",
        "outputId": "ce612920-5caf-4b3e-c794-20d687ce75af"
      },
      "source": [
        "import keyword\n",
        "\n",
        "word_to_check = \"if\"  # Replace with the word you want to check\n",
        "\n",
        "if word_to_check in keyword.kwlist:\n",
        "  print(f\"'{word_to_check}' is a Python keyword.\")\n",
        "else:\n",
        "  print(f\"'{word_to_check}' is not a Python keyword.\")"
      ],
      "execution_count": 6,
      "outputs": [
        {
          "output_type": "stream",
          "name": "stdout",
          "text": [
            "'if' is a Python keyword.\n"
          ]
        }
      ]
    },
    {
      "cell_type": "markdown",
      "source": [
        "**5.  Create a list and tuple in Python, and demonstrate how attempting to change an element works differently for each.**"
      ],
      "metadata": {
        "id": "hwUSg8rlbLcR"
      }
    },
    {
      "cell_type": "code",
      "metadata": {
        "colab": {
          "base_uri": "https://localhost:8080/"
        },
        "id": "f633772e",
        "outputId": "2255804c-17a1-4c33-ce2d-27ff2a9679f1"
      },
      "source": [
        "# Create a list and a tuple\n",
        "my_list = [1, 2, 3, 4]\n",
        "my_tuple = (1, 2, 3, 4)\n",
        "\n",
        "print(\"Original list:\", my_list)\n",
        "print(\"Original tuple:\", my_tuple)\n",
        "\n",
        "# Attempt to change an element in the list\n",
        "print(\"\\nAttempting to change the second element of the list...\")\n",
        "my_list[1] = 10\n",
        "print(\"List after attempted change:\", my_list)\n",
        "\n",
        "# Attempt to change an element in the tuple\n",
        "print(\"\\nAttempting to change the second element of the tuple...\")\n",
        "try:\n",
        "  my_tuple[1] = 10\n",
        "except TypeError as e:\n",
        "  print(f\"Error: {e}\")\n",
        "print(\"Tuple after attempted change:\", my_tuple)"
      ],
      "execution_count": 7,
      "outputs": [
        {
          "output_type": "stream",
          "name": "stdout",
          "text": [
            "Original list: [1, 2, 3, 4]\n",
            "Original tuple: (1, 2, 3, 4)\n",
            "\n",
            "Attempting to change the second element of the list...\n",
            "List after attempted change: [1, 10, 3, 4]\n",
            "\n",
            "Attempting to change the second element of the tuple...\n",
            "Error: 'tuple' object does not support item assignment\n",
            "Tuple after attempted change: (1, 2, 3, 4)\n"
          ]
        }
      ]
    },
    {
      "cell_type": "markdown",
      "source": [
        "**6. Write a function to demonstrate the behavior of mutable and immutable arguments.**"
      ],
      "metadata": {
        "id": "5REARd7gbaL7"
      }
    },
    {
      "cell_type": "code",
      "metadata": {
        "colab": {
          "base_uri": "https://localhost:8080/"
        },
        "id": "f5d7f8d8",
        "outputId": "2fa14076-2cc0-4d12-e4d1-6ecdbbf6d715"
      },
      "source": [
        "def modify_objects(mutable_list, immutable_int):\n",
        "  \"\"\"\n",
        "  Demonstrates the behavior of mutable and immutable arguments.\n",
        "\n",
        "  Args:\n",
        "    mutable_list: A list (mutable).\n",
        "    immutable_int: An integer (immutable).\n",
        "  \"\"\"\n",
        "  print(\"Inside the function:\")\n",
        "  print(\"Mutable list before modification:\", mutable_list)\n",
        "  print(\"Immutable integer before modification:\", immutable_int)\n",
        "\n",
        "  # Modify the mutable list\n",
        "  mutable_list.append(5)\n",
        "  mutable_list[0] = 99\n",
        "\n",
        "  # Attempt to modify the immutable integer (this will create a new object)\n",
        "  immutable_int = immutable_int + 10\n",
        "\n",
        "  print(\"Mutable list after modification:\", mutable_list)\n",
        "  print(\"Immutable integer after attempted modification:\", immutable_int)\n",
        "\n",
        "\n",
        "# Create objects outside the function\n",
        "my_list = [1, 2, 3, 4]\n",
        "my_integer = 10\n",
        "\n",
        "print(\"Outside the function before calling:\")\n",
        "print(\"Mutable list:\", my_list)\n",
        "print(\"Immutable integer:\", my_integer)\n",
        "\n",
        "# Call the function\n",
        "modify_objects(my_list, my_integer)\n",
        "\n",
        "print(\"\\nOutside the function after calling:\")\n",
        "print(\"Mutable list:\", my_list)\n",
        "print(\"Immutable integer:\", my_integer)"
      ],
      "execution_count": 8,
      "outputs": [
        {
          "output_type": "stream",
          "name": "stdout",
          "text": [
            "Outside the function before calling:\n",
            "Mutable list: [1, 2, 3, 4]\n",
            "Immutable integer: 10\n",
            "Inside the function:\n",
            "Mutable list before modification: [1, 2, 3, 4]\n",
            "Immutable integer before modification: 10\n",
            "Mutable list after modification: [99, 2, 3, 4, 5]\n",
            "Immutable integer after attempted modification: 20\n",
            "\n",
            "Outside the function after calling:\n",
            "Mutable list: [99, 2, 3, 4, 5]\n",
            "Immutable integer: 10\n"
          ]
        }
      ]
    },
    {
      "cell_type": "markdown",
      "source": [
        "**7. Write a program that performs basic arithmetic operations on two user-input numbers.**"
      ],
      "metadata": {
        "id": "t9FeZSV1bqEq"
      }
    },
    {
      "cell_type": "code",
      "metadata": {
        "colab": {
          "base_uri": "https://localhost:8080/"
        },
        "id": "4d1ae826",
        "outputId": "38b09aeb-5e72-43aa-91ef-cf8158bb4455"
      },
      "source": [
        "# Get input from the user\n",
        "num1_str = input(\"Enter the first number: \")\n",
        "num2_str = input(\"Enter the second number: \")\n",
        "\n",
        "# Convert the input strings to numbers (float)\n",
        "try:\n",
        "  num1 = float(num1_str)\n",
        "  num2 = float(num2_str)\n",
        "\n",
        "  # Perform arithmetic operations\n",
        "  sum_result = num1 + num2\n",
        "  difference_result = num1 - num2\n",
        "  product_result = num1 * num2\n",
        "  # Add a check for division by zero\n",
        "  if num2 != 0:\n",
        "    division_result = num1 / num2\n",
        "  else:\n",
        "    division_result = \"Division by zero is not allowed\"\n",
        "\n",
        "\n",
        "  # Display the results\n",
        "  print(\"\\n--- Results ---\")\n",
        "  print(f\"{num1} + {num2} = {sum_result}\")\n",
        "  print(f\"{num1} - {num2} = {difference_result}\")\n",
        "  print(f\"{num1} * {num2} = {product_result}\")\n",
        "  print(f\"{num1} / {num2} = {division_result}\")\n",
        "\n",
        "except ValueError:\n",
        "  print(\"Invalid input. Please enter valid numbers.\")"
      ],
      "execution_count": 9,
      "outputs": [
        {
          "output_type": "stream",
          "name": "stdout",
          "text": [
            "Enter the first number: 100\n",
            "Enter the second number: 2\n",
            "\n",
            "--- Results ---\n",
            "100.0 + 2.0 = 102.0\n",
            "100.0 - 2.0 = 98.0\n",
            "100.0 * 2.0 = 200.0\n",
            "100.0 / 2.0 = 50.0\n"
          ]
        }
      ]
    },
    {
      "cell_type": "markdown",
      "source": [
        "**8. Write a program to demonstrate the use of logical operators.**"
      ],
      "metadata": {
        "id": "QeAgJeZWlpVQ"
      }
    },
    {
      "cell_type": "code",
      "metadata": {
        "colab": {
          "base_uri": "https://localhost:8080/"
        },
        "id": "76191571",
        "outputId": "7a30b3b4-a4e5-4d93-e93b-8620bc74e330"
      },
      "source": [
        "# Demonstrate the 'and' operator\n",
        "x = 10\n",
        "y = 20\n",
        "print(f\"Is x > 5 and y < 25? {x > 5 and y < 25}\")\n",
        "print(f\"Is x > 15 and y < 25? {x > 15 and y < 25}\")\n",
        "\n",
        "# Demonstrate the 'or' operator\n",
        "print(f\"\\nIs x > 15 or y < 25? {x > 15 or y < 25}\")\n",
        "print(f\"Is x > 15 or y > 25? {x > 15 or y > 25}\")\n",
        "\n",
        "# Demonstrate the 'not' operator\n",
        "is_greater_than_five = x > 5\n",
        "print(f\"\\nIs x > 5? {is_greater_than_five}\")\n",
        "print(f\"Is not (x > 5)? {not is_greater_than_five}\")"
      ],
      "execution_count": 10,
      "outputs": [
        {
          "output_type": "stream",
          "name": "stdout",
          "text": [
            "Is x > 5 and y < 25? True\n",
            "Is x > 15 and y < 25? False\n",
            "\n",
            "Is x > 15 or y < 25? True\n",
            "Is x > 15 or y > 25? False\n",
            "\n",
            "Is x > 5? True\n",
            "Is not (x > 5)? False\n"
          ]
        }
      ]
    },
    {
      "cell_type": "markdown",
      "source": [
        "9. Write a Python program to convert user input from string to integer, float, and boolean types."
      ],
      "metadata": {
        "id": "4OKTDqaml54N"
      }
    },
    {
      "cell_type": "code",
      "metadata": {
        "colab": {
          "base_uri": "https://localhost:8080/"
        },
        "id": "db951bb4",
        "outputId": "6fbef15a-4770-46ed-872f-ce6a2949994a"
      },
      "source": [
        "# Get input from the user\n",
        "user_input_str = input(\"Enter a value: \")\n",
        "\n",
        "# Attempt to convert to integer\n",
        "try:\n",
        "  int_value = int(user_input_str)\n",
        "  print(f\"Converted to integer: {int_value} (Type: {type(int_value)})\")\n",
        "except ValueError:\n",
        "  print(f\"Could not convert '{user_input_str}' to integer.\")\n",
        "\n",
        "# Attempt to convert to float\n",
        "try:\n",
        "  float_value = float(user_input_str)\n",
        "  print(f\"Converted to float: {float_value} (Type: {type(float_value)})\")\n",
        "except ValueError:\n",
        "  print(f\"Could not convert '{user_input_str}' to float.\")\n",
        "\n",
        "# Convert to boolean\n",
        "# In Python, empty strings, 0, and None are considered False in a boolean context.\n",
        "# Most other values are considered True.\n",
        "bool_value = bool(user_input_str)\n",
        "print(f\"Converted to boolean: {bool_value} (Type: {type(bool_value)})\")"
      ],
      "execution_count": 11,
      "outputs": [
        {
          "output_type": "stream",
          "name": "stdout",
          "text": [
            "Enter a value: 11\n",
            "Converted to integer: 11 (Type: <class 'int'>)\n",
            "Converted to float: 11.0 (Type: <class 'float'>)\n",
            "Converted to boolean: True (Type: <class 'bool'>)\n"
          ]
        }
      ]
    },
    {
      "cell_type": "markdown",
      "source": [
        "**10. Write code to demonstrate type casting with list elements.**"
      ],
      "metadata": {
        "id": "lSrT49X8mLo3"
      }
    },
    {
      "cell_type": "code",
      "metadata": {
        "colab": {
          "base_uri": "https://localhost:8080/"
        },
        "id": "4d9075f5",
        "outputId": "c662f14e-94c3-4298-f83e-290570eadff5"
      },
      "source": [
        "# Create a list with elements of different types (some can be converted)\n",
        "my_list = [\"1\", \"2.5\", \"True\", \"hello\", \"100\"]\n",
        "\n",
        "print(\"Original list:\", my_list)\n",
        "print(\"Original list element types:\", [type(item) for item in my_list])\n",
        "\n",
        "# Demonstrate type casting to integer\n",
        "int_list = []\n",
        "for item in my_list:\n",
        "  try:\n",
        "    int_list.append(int(item))\n",
        "  except ValueError:\n",
        "    int_list.append(f\"Could not convert '{item}' to int\") # Handle non-convertible elements\n",
        "\n",
        "print(\"\\nList after attempting to cast to integer:\", int_list)\n",
        "\n",
        "# Demonstrate type casting to float\n",
        "float_list = []\n",
        "for item in my_list:\n",
        "  try:\n",
        "    float_list.append(float(item))\n",
        "  except ValueError:\n",
        "    float_list.append(f\"Could not convert '{item}' to float\") # Handle non-convertible elements\n",
        "\n",
        "print(\"List after attempting to cast to float:\", float_list)\n",
        "\n",
        "# Demonstrate type casting to boolean\n",
        "# Note: bool() on strings will return True for non-empty strings, False for empty strings.\n",
        "# For more specific boolean casting, you might need custom logic.\n",
        "bool_list = [bool(item) for item in my_list]\n",
        "print(\"List after casting to boolean:\", bool_list)\n",
        "\n",
        "# Demonstrate type casting within a list comprehension (more concise for simple cases)\n",
        "str_numbers = [\"1\", \"2\", \"3\", \"4\"]\n",
        "int_numbers = [int(num) for num in str_numbers]\n",
        "print(\"\\nOriginal list of string numbers:\", str_numbers)\n",
        "print(\"List after casting to integer using list comprehension:\", int_numbers)"
      ],
      "execution_count": 12,
      "outputs": [
        {
          "output_type": "stream",
          "name": "stdout",
          "text": [
            "Original list: ['1', '2.5', 'True', 'hello', '100']\n",
            "Original list element types: [<class 'str'>, <class 'str'>, <class 'str'>, <class 'str'>, <class 'str'>]\n",
            "\n",
            "List after attempting to cast to integer: [1, \"Could not convert '2.5' to int\", \"Could not convert 'True' to int\", \"Could not convert 'hello' to int\", 100]\n",
            "List after attempting to cast to float: [1.0, 2.5, \"Could not convert 'True' to float\", \"Could not convert 'hello' to float\", 100.0]\n",
            "List after casting to boolean: [True, True, True, True, True]\n",
            "\n",
            "Original list of string numbers: ['1', '2', '3', '4']\n",
            "List after casting to integer using list comprehension: [1, 2, 3, 4]\n"
          ]
        }
      ]
    },
    {
      "cell_type": "markdown",
      "source": [
        "**11. Write a program that checks if a number is positive, negative, or zero.**"
      ],
      "metadata": {
        "id": "CwMK9inXmZaF"
      }
    },
    {
      "cell_type": "code",
      "metadata": {
        "colab": {
          "base_uri": "https://localhost:8080/"
        },
        "id": "4af2d031",
        "outputId": "f83fe2c0-51c6-4332-bd84-575218f9bddd"
      },
      "source": [
        "# Get input from the user\n",
        "num_str = input(\"Enter a number: \")\n",
        "\n",
        "# Convert the input string to a number\n",
        "try:\n",
        "  num = float(num_str)\n",
        "\n",
        "  # Check if the number is positive, negative, or zero\n",
        "  if num > 0:\n",
        "    print(f\"{num} is a positive number.\")\n",
        "  elif num < 0:\n",
        "    print(f\"{num} is a negative number.\")\n",
        "  else:\n",
        "    print(f\"{num} is zero.\")\n",
        "\n",
        "except ValueError:\n",
        "  print(\"Invalid input. Please enter a valid number.\")"
      ],
      "execution_count": 13,
      "outputs": [
        {
          "output_type": "stream",
          "name": "stdout",
          "text": [
            "Enter a number: 67\n",
            "67.0 is a positive number.\n"
          ]
        }
      ]
    },
    {
      "cell_type": "markdown",
      "source": [
        "**12. Write a for loop to print numbers from 1 to 10.**"
      ],
      "metadata": {
        "id": "Xm5_bHtumtFC"
      }
    },
    {
      "cell_type": "code",
      "metadata": {
        "colab": {
          "base_uri": "https://localhost:8080/"
        },
        "id": "78862e9e",
        "outputId": "3c2c0976-01ff-4702-dcb1-68db0c713aed"
      },
      "source": [
        "for i in range(1, 11):\n",
        "  print(i)"
      ],
      "execution_count": 14,
      "outputs": [
        {
          "output_type": "stream",
          "name": "stdout",
          "text": [
            "1\n",
            "2\n",
            "3\n",
            "4\n",
            "5\n",
            "6\n",
            "7\n",
            "8\n",
            "9\n",
            "10\n"
          ]
        }
      ]
    },
    {
      "cell_type": "markdown",
      "source": [
        "**13.Write a Python program to find the sum of all even numbers between 1 and 50.**"
      ],
      "metadata": {
        "id": "Wg-Lyyahm84m"
      }
    },
    {
      "cell_type": "code",
      "metadata": {
        "colab": {
          "base_uri": "https://localhost:8080/"
        },
        "id": "3d161b15",
        "outputId": "ffb7ee1b-410c-457c-db8d-5a505420a303"
      },
      "source": [
        "sum_of_evens = 0\n",
        "\n",
        "for number in range(1, 51):\n",
        "  if number % 2 == 0:\n",
        "    sum_of_evens += number\n",
        "\n",
        "print(f\"The sum of all even numbers between 1 and 50 is: {sum_of_evens}\")"
      ],
      "execution_count": 15,
      "outputs": [
        {
          "output_type": "stream",
          "name": "stdout",
          "text": [
            "The sum of all even numbers between 1 and 50 is: 650\n"
          ]
        }
      ]
    },
    {
      "cell_type": "markdown",
      "source": [
        "**14. Write a program to reverse a string using a while loop.**"
      ],
      "metadata": {
        "id": "GOUpcBhDnFJT"
      }
    },
    {
      "cell_type": "code",
      "metadata": {
        "colab": {
          "base_uri": "https://localhost:8080/"
        },
        "id": "b21003d7",
        "outputId": "e6c0ac76-3f96-46ef-d4d5-791986e8e1f1"
      },
      "source": [
        "input_string = \"Hello, Python!\"\n",
        "reversed_string = \"\"\n",
        "index = len(input_string) - 1\n",
        "\n",
        "while index >= 0:\n",
        "  reversed_string += input_string[index]\n",
        "  index -= 1\n",
        "\n",
        "print(f\"Original string: {input_string}\")\n",
        "print(f\"Reversed string: {reversed_string}\")"
      ],
      "execution_count": 16,
      "outputs": [
        {
          "output_type": "stream",
          "name": "stdout",
          "text": [
            "Original string: Hello, Python!\n",
            "Reversed string: !nohtyP ,olleH\n"
          ]
        }
      ]
    },
    {
      "cell_type": "markdown",
      "source": [
        "**15. Write a Python program to calculate the factorial of a number provided by the user using a while loop.**"
      ],
      "metadata": {
        "id": "-bqUSfKRnQyK"
      }
    },
    {
      "cell_type": "code",
      "metadata": {
        "colab": {
          "base_uri": "https://localhost:8080/"
        },
        "id": "ff36f13d",
        "outputId": "9fed2f4f-b58f-48c7-d071-68a8f57cd720"
      },
      "source": [
        "# Get input from the user\n",
        "num_str = input(\"Enter a non-negative integer: \")\n",
        "\n",
        "# Convert the input string to an integer and calculate factorial\n",
        "try:\n",
        "  num = int(num_str)\n",
        "\n",
        "  if num < 0:\n",
        "    print(\"Factorial is not defined for negative numbers.\")\n",
        "  elif num == 0:\n",
        "    print(\"The factorial of 0 is 1.\")\n",
        "  else:\n",
        "    factorial = 1\n",
        "    count = num\n",
        "    while count > 0:\n",
        "      factorial *= count\n",
        "      count -= 1\n",
        "    print(f\"The factorial of {num} is {factorial}.\")\n",
        "\n",
        "except ValueError:\n",
        "  print(\"Invalid input. Please enter a non-negative integer.\")"
      ],
      "execution_count": 17,
      "outputs": [
        {
          "output_type": "stream",
          "name": "stdout",
          "text": [
            "Enter a non-negative integer: 18\n",
            "The factorial of 18 is 6402373705728000.\n"
          ]
        }
      ]
    },
    {
      "cell_type": "markdown",
      "source": [],
      "metadata": {
        "id": "JhtCBbBMnaLc"
      }
    }
  ]
}